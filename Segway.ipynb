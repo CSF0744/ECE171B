{
  "nbformat": 4,
  "nbformat_minor": 0,
  "metadata": {
    "colab": {
      "provenance": [],
      "collapsed_sections": [],
      "include_colab_link": true
    },
    "kernelspec": {
      "name": "python3",
      "display_name": "Python 3"
    },
    "language_info": {
      "name": "python"
    },
    "accelerator": "GPU"
  },
  "cells": [
    {
      "cell_type": "markdown",
      "metadata": {
        "id": "view-in-github",
        "colab_type": "text"
      },
      "source": [
        "<a href=\"https://colab.research.google.com/github/CSF0744/ECE171B/blob/main/Segway.ipynb\" target=\"_parent\"><img src=\"https://colab.research.google.com/assets/colab-badge.svg\" alt=\"Open In Colab\"/></a>"
      ]
    },
    {
      "cell_type": "code",
      "metadata": {
        "id": "ehvUErxIhqjT",
        "outputId": "48f3246b-e9c6-45c6-a0c7-a8f9735b45f3",
        "colab": {
          "base_uri": "https://localhost:8080/"
        }
      },
      "source": [
        "!pip install control\n",
        "!pip install slycot"
      ],
      "execution_count": null,
      "outputs": [
        {
          "output_type": "stream",
          "name": "stdout",
          "text": [
            "Looking in indexes: https://pypi.org/simple, https://us-python.pkg.dev/colab-wheels/public/simple/\n",
            "Collecting control\n",
            "  Downloading control-0.9.2.tar.gz (398 kB)\n",
            "\u001b[K     |████████████████████████████████| 398 kB 19.4 MB/s \n",
            "\u001b[?25hRequirement already satisfied: numpy in /usr/local/lib/python3.7/dist-packages (from control) (1.21.6)\n",
            "Requirement already satisfied: scipy in /usr/local/lib/python3.7/dist-packages (from control) (1.7.3)\n",
            "Requirement already satisfied: matplotlib in /usr/local/lib/python3.7/dist-packages (from control) (3.2.2)\n",
            "Requirement already satisfied: pyparsing!=2.0.4,!=2.1.2,!=2.1.6,>=2.0.1 in /usr/local/lib/python3.7/dist-packages (from matplotlib->control) (3.0.9)\n",
            "Requirement already satisfied: kiwisolver>=1.0.1 in /usr/local/lib/python3.7/dist-packages (from matplotlib->control) (1.4.4)\n",
            "Requirement already satisfied: python-dateutil>=2.1 in /usr/local/lib/python3.7/dist-packages (from matplotlib->control) (2.8.2)\n",
            "Requirement already satisfied: cycler>=0.10 in /usr/local/lib/python3.7/dist-packages (from matplotlib->control) (0.11.0)\n",
            "Requirement already satisfied: typing-extensions in /usr/local/lib/python3.7/dist-packages (from kiwisolver>=1.0.1->matplotlib->control) (4.1.1)\n",
            "Requirement already satisfied: six>=1.5 in /usr/local/lib/python3.7/dist-packages (from python-dateutil>=2.1->matplotlib->control) (1.15.0)\n",
            "Building wheels for collected packages: control\n",
            "  Building wheel for control (setup.py) ... \u001b[?25l\u001b[?25hdone\n",
            "  Created wheel for control: filename=control-0.9.2-py2.py3-none-any.whl size=403205 sha256=48751bdcf2389a7511e8b0263736d6a6a5b59a60361e8a71bbd7330d2eddcfda\n",
            "  Stored in directory: /root/.cache/pip/wheels/48/ef/c2/929bb5c59a1328df00a0561d0e68cd7c8537f33f5ce0ce741b\n",
            "Successfully built control\n",
            "Installing collected packages: control\n",
            "Successfully installed control-0.9.2\n",
            "Looking in indexes: https://pypi.org/simple, https://us-python.pkg.dev/colab-wheels/public/simple/\n",
            "Collecting slycot\n",
            "  Downloading slycot-0.5.0.0.tar.gz (3.0 MB)\n",
            "\u001b[K     |████████████████████████████████| 3.0 MB 23.8 MB/s \n",
            "\u001b[?25h  Installing build dependencies ... \u001b[?25l\u001b[?25hdone\n",
            "  Getting requirements to build wheel ... \u001b[?25l\u001b[?25hdone\n",
            "    Preparing wheel metadata ... \u001b[?25l\u001b[?25hdone\n",
            "Requirement already satisfied: numpy in /usr/local/lib/python3.7/dist-packages (from slycot) (1.21.6)\n",
            "Building wheels for collected packages: slycot\n",
            "  Building wheel for slycot (PEP 517) ... \u001b[?25l\u001b[?25hdone\n",
            "  Created wheel for slycot: filename=slycot-0.5.0-cp37-cp37m-linux_x86_64.whl size=2021298 sha256=b32bb25a63df14d82c7e019ed2abbb0c5a964f5332aef5d3b7ef44c6acbccd13\n",
            "  Stored in directory: /root/.cache/pip/wheels/7f/2e/54/e2cb7cf358f956ed0efa9923ab4f5aa353a941422c55b25531\n",
            "Successfully built slycot\n",
            "Installing collected packages: slycot\n",
            "Successfully installed slycot-0.5.0\n"
          ]
        }
      ]
    },
    {
      "cell_type": "code",
      "metadata": {
        "id": "VNG07BWgheqg"
      },
      "source": [
        "import numpy as np\n",
        "from google.colab.patches import cv2_imshow\n",
        "import cv2\n",
        "from scipy.integrate import solve_ivp\n",
        "import control\n",
        "import code\n",
        "from PIL import Image\n",
        "from IPython.display import display, clear_output\n",
        "from numpy.linalg import matrix_rank\n",
        "from numpy import linalg as LA\n",
        "import math"
      ],
      "execution_count": null,
      "outputs": []
    },
    {
      "cell_type": "code",
      "metadata": {
        "id": "Yjaxufr2gN1-"
      },
      "source": [
        "# Visualize cart and pendulum movement via OpenCV \n",
        "# Source Code: https://github.com/mpkuse/inverted_pendulum/blob/master/InvertedPendulum.py\n",
        "class CartPendulum:\n",
        "    def __init__(self):\n",
        "        f = 0\n",
        "\n",
        "    def step( self, state_vec, t=None ):\n",
        "        \"\"\" state vector :\n",
        "                x0 : position of the cart\n",
        "                x1 : veclocity of the cart\n",
        "                x2 : angle of pendulum. In ref frame with x as forward of the cart and y as up. Angile with respect to ground plane\n",
        "                x3 : angular velocity of the pendulum\n",
        "        \"\"\"\n",
        "        CART_POS = state_vec[0]\n",
        "        BOB_ANG  = state_vec[1]*180. / np.pi # degrees\n",
        "        \n",
        "        LENGTH_OF_PENDULUM = 110.\n",
        "\n",
        "        IM = np.zeros( (512, 512,3), dtype='uint8' )\n",
        "\n",
        "        # Ground line\n",
        "        cv2.line(IM, (0, 450), (IM.shape[1], 450), (19,69,139), 4 )\n",
        "\n",
        "\n",
        "        # Mark ground line\n",
        "        XSTART = -5.\n",
        "        XEND = 5.\n",
        "        for xd in np.linspace( XSTART, XEND, 11 ):\n",
        "            x = int(   (xd - XSTART) / (XEND - XSTART) * IM.shape[0]   )\n",
        "\n",
        "            cv2.circle( IM, (x, 450), 5, (0,255,0), -1 )\n",
        "\n",
        "            cv2.putText(IM, str(xd), (x-15,450+15), cv2.FONT_HERSHEY_COMPLEX_SMALL, 0.8, (200,200,250), 1);\n",
        "\n",
        "\n",
        "        # Draw Wheels of the cart\n",
        "        wheel_1_pos = int(   (CART_POS - 1.2 - XSTART) / (XEND - XSTART) * IM.shape[0]   )\n",
        "        wheel_2_pos = int(   (CART_POS + 1.2 - XSTART) / (XEND - XSTART) * IM.shape[0]   )\n",
        "\n",
        "        cv2.circle( IM, (wheel_1_pos, 415), 25, (255,255,255), 6 )\n",
        "        cv2.circle( IM, (wheel_2_pos, 415), 25, (255,255,255), 6 )\n",
        "        cv2.circle( IM, (wheel_1_pos, 415), 2, (255,255,255), -1 )\n",
        "        cv2.circle( IM, (wheel_2_pos, 415), 2, (255,255,255), -1 )\n",
        "\n",
        "        # Cart base\n",
        "        cart_base_start = int(   (CART_POS - 2.5 - XSTART) / (XEND - XSTART) * IM.shape[0]   )\n",
        "        cart_base_end   = int(   (CART_POS + 2.5 - XSTART) / (XEND - XSTART) * IM.shape[0]   )\n",
        "\n",
        "        cv2.line( IM, (cart_base_start, 380), (cart_base_end, 380), (255,255,255), 6 )\n",
        "\n",
        "        # Pendulum hinge\n",
        "        pendulum_hinge_x = int(   (CART_POS - XSTART) / (XEND - XSTART) * IM.shape[0]   )\n",
        "        pendulum_hinge_y = 380\n",
        "        cv2.circle( IM, (pendulum_hinge_x, pendulum_hinge_y), 10, (255,255,255), -1 )\n",
        "\n",
        "\n",
        "        # Pendulum\n",
        "        pendulum_bob_x = int( LENGTH_OF_PENDULUM * np.cos( (BOB_ANG+90) / 180. * np.pi ) )\n",
        "        pendulum_bob_y = int( LENGTH_OF_PENDULUM * np.sin( (BOB_ANG+90) / 180. * np.pi ) )\n",
        "        cv2.circle( IM, (pendulum_hinge_x+pendulum_bob_x, pendulum_hinge_y-pendulum_bob_y), 10, (255,255,255), -1 )\n",
        "        cv2.line( IM, (pendulum_hinge_x, pendulum_hinge_y), (pendulum_hinge_x+pendulum_bob_x, pendulum_hinge_y-pendulum_bob_y), (255,255,255), 3 )\n",
        "\n",
        "        # Mark the current angle\n",
        "        angle_display = BOB_ANG % 360\n",
        "        if( angle_display > 180 ):\n",
        "            angle_display = -360+angle_display\n",
        "        cv2.putText(IM, \"theta=\"+str( np.round(angle_display,4) )+\" deg\", (pendulum_hinge_x-15, pendulum_hinge_y-15), cv2.FONT_HERSHEY_COMPLEX_SMALL, 0.8, (200,200,250), 1);\n",
        "\n",
        "\n",
        "        # Display on top\n",
        "        if t is not None:\n",
        "            cv2.putText(IM, \"t=\"+str(np.round(t,4))+\"sec\", (15, 15), cv2.FONT_HERSHEY_COMPLEX_SMALL, 0.8, (200,200,250), 1);\n",
        "            cv2.putText(IM, \"ANG=\"+str(np.round(BOB_ANG,4))+\" degrees\", (15, 35), cv2.FONT_HERSHEY_COMPLEX_SMALL, 0.8, (200,200,250), 1);\n",
        "            cv2.putText(IM, \"POS=\"+str(np.round(CART_POS,4))+\" m\", (15, 55), cv2.FONT_HERSHEY_COMPLEX_SMALL, 0.8, (200,200,250), 1);\n",
        "\n",
        "\n",
        "\n",
        "        return IM"
      ],
      "execution_count": null,
      "outputs": []
    },
    {
      "cell_type": "markdown",
      "metadata": {
        "id": "_hpW6U78tYnV"
      },
      "source": [
        "### Define the nonlinear cart-pendulum dynamics model"
      ]
    },
    {
      "cell_type": "code",
      "metadata": {
        "id": "JfBeMWYuQVJn"
      },
      "source": [
        "def x_dot(t, x):\n",
        "    g = 9.8 #gravitational acceleration\n",
        "    L = 1.0 #rider's leg length\n",
        "\n",
        "    m = 30.0 #rider's mass \n",
        "    M = 10.0  #mass of cart \n",
        "    \n",
        "    J = 100 #rider's moment-of-inertia \n",
        "    M_t = M+m\n",
        "    J_t = J+m*L**2\n",
        "\n",
        "    # When you need the control input in the dynamics, write it as u(t,x) so \n",
        "    # you can test the performance of different controllers \n",
        "\n",
        "    p_dot = x[2]\n",
        "    \n",
        "    theta_dot = x[3]\n",
        "    \n",
        "    p_ddot = (J_t*u(t,x)-J_t*m*L*math.sin(x[1])*x[3]*x[3]+m*m*g*L*L*math.sin(x[1])*math.cos(x[1]))/(M_t*J_t-m*m*L*L*math.cos(x[1])*math.cos(x[1]))\n",
        "\n",
        "    theta_ddot = (m*L*math.cos(x[1])*u(t,x)-m*m*L*L*math.sin(x[1])*math.cos(x[1])*x[3]*x[3]+M_t*m*g*L*math.sin(x[1]))/(M_t*J_t-m*m*L*L*math.cos(x[1])*math.cos(x[1]))\n",
        "\n",
        "    return [p_dot, theta_dot, p_ddot, theta_ddot]"
      ],
      "execution_count": null,
      "outputs": []
    },
    {
      "cell_type": "markdown",
      "metadata": {
        "id": "ntoTvbQ_ieDQ"
      },
      "source": [
        "### Simulate the system without control"
      ]
    },
    {
      "cell_type": "code",
      "metadata": {
        "id": "KVC0mF20NztZ"
      },
      "source": [
        "# No control\n",
        "def u(t, x):\n",
        "    return 0"
      ],
      "execution_count": null,
      "outputs": []
    },
    {
      "cell_type": "code",
      "metadata": {
        "id": "nnS4VSl_Nzwm",
        "outputId": "2fd02819-692c-4fcd-c042-1d72486534c6",
        "colab": {
          "base_uri": "https://localhost:8080/",
          "height": 17
        }
      },
      "source": [
        "# Simulate the dynamical system\n",
        "from google.colab import files\n",
        "if __name__==\"__main__\":\n",
        "    sol = solve_ivp(x_dot, [0, 20], [1.0, 0+0.05, 0., 0.],  t_eval=np.linspace(0, 20, 100))\n",
        "\n",
        "    syst = CartPendulum()\n",
        "    out = cv2.VideoWriter('outpy.avi',cv2.VideoWriter_fourcc('M','J','P','G'), 10, (512,512))\n",
        "    for i, t in enumerate(sol.t):\n",
        "        rendered = syst.step([sol.y[0,i], sol.y[1,i], sol.y[2,i], sol.y[3,i]], t)\n",
        "        out.write(rendered);\n",
        "\n",
        "        if cv2.waitKey(25) == ord('q'):\n",
        "            break\n",
        "    out.release()\n",
        "    files.download('outpy.avi')"
      ],
      "execution_count": null,
      "outputs": [
        {
          "output_type": "display_data",
          "data": {
            "text/plain": [
              "<IPython.core.display.Javascript object>"
            ],
            "application/javascript": [
              "\n",
              "    async function download(id, filename, size) {\n",
              "      if (!google.colab.kernel.accessAllowed) {\n",
              "        return;\n",
              "      }\n",
              "      const div = document.createElement('div');\n",
              "      const label = document.createElement('label');\n",
              "      label.textContent = `Downloading \"${filename}\": `;\n",
              "      div.appendChild(label);\n",
              "      const progress = document.createElement('progress');\n",
              "      progress.max = size;\n",
              "      div.appendChild(progress);\n",
              "      document.body.appendChild(div);\n",
              "\n",
              "      const buffers = [];\n",
              "      let downloaded = 0;\n",
              "\n",
              "      const channel = await google.colab.kernel.comms.open(id);\n",
              "      // Send a message to notify the kernel that we're ready.\n",
              "      channel.send({})\n",
              "\n",
              "      for await (const message of channel.messages) {\n",
              "        // Send a message to notify the kernel that we're ready.\n",
              "        channel.send({})\n",
              "        if (message.buffers) {\n",
              "          for (const buffer of message.buffers) {\n",
              "            buffers.push(buffer);\n",
              "            downloaded += buffer.byteLength;\n",
              "            progress.value = downloaded;\n",
              "          }\n",
              "        }\n",
              "      }\n",
              "      const blob = new Blob(buffers, {type: 'application/binary'});\n",
              "      const a = document.createElement('a');\n",
              "      a.href = window.URL.createObjectURL(blob);\n",
              "      a.download = filename;\n",
              "      div.appendChild(a);\n",
              "      a.click();\n",
              "      div.remove();\n",
              "    }\n",
              "  "
            ]
          },
          "metadata": {}
        },
        {
          "output_type": "display_data",
          "data": {
            "text/plain": [
              "<IPython.core.display.Javascript object>"
            ],
            "application/javascript": [
              "download(\"download_f9733d7d-0904-4b00-9b75-26a0ac7144e4\", \"outpy.avi\", 2199900)"
            ]
          },
          "metadata": {}
        }
      ]
    },
    {
      "cell_type": "markdown",
      "metadata": {
        "id": "FV_cscu1jE_I"
      },
      "source": [
        "### Controller Design\n",
        "\n",
        "It can be observed from the previous simulation, that if there is no control, the pendulum is going to swing and swing, and will not stop since we assume the friction coefficient is 0. This is the system we want to control.\n",
        "\n",
        "Now, we are going to design controllers based on the system linearization and then apply them to the full nonlinear dynamical system.\n",
        "\n",
        "The first thing we need to do is to get the linearization Jacobian $\\frac{\\partial f}{\\partial x}$ and $\\frac{\\partial f}{\\partial u}$. Then we plug in the equilibrium point we want to linearize the system around and get the A, B matrix.\n",
        "\n",
        "Before we design a stablizing controller, the first thing we want to do is to check whether then system is reachable/controllable."
      ]
    },
    {
      "cell_type": "markdown",
      "metadata": {
        "id": "pwXRz_tdtmAS"
      },
      "source": [
        "### Linearization"
      ]
    },
    {
      "cell_type": "code",
      "metadata": {
        "id": "jz13dUdgpGmJ"
      },
      "source": [
        "class LinearizedSystem:\n",
        "    def __init__(self):\n",
        "        g = 9.8 #gravitational acceleration\n",
        "        L = 1.0 #rider's leg length\n",
        "\n",
        "        m = 30.0 #rider's mass \n",
        "        M = 10.0  #mass of cart \n",
        "        \n",
        "        J = 100 #rider's moment-of-inertia \n",
        "\n",
        "        # Pendulum up (linearized eq)\n",
        "        M_t = M+m\n",
        "        J_t = J+m*L**2\n",
        "        mu = M_t*J_t - m**2*L**2\n",
        "\n",
        "        # Linearized system around theta = 0\n",
        "        self.A = np.array([[0, 0, 1., 0],\\\n",
        "                           [0, 0, 0, 1.],\\\n",
        "                           [0, m**2*L**2*g/mu, 0, 0],\\\n",
        "                           [0, M_t*m*g*L/mu, 0, 0]])\n",
        "\n",
        "        self.B = np.expand_dims( np.array( [0, 0, J_t/mu, m*L/mu]) , 1 ) # 4x1"
      ],
      "execution_count": null,
      "outputs": []
    },
    {
      "cell_type": "markdown",
      "metadata": {
        "id": "NgOZelzTk9mO"
      },
      "source": [
        "### Compute the reachability matrix W_r"
      ]
    },
    {
      "cell_type": "code",
      "metadata": {
        "id": "juFVAehGk8ad"
      },
      "source": [
        "ss = LinearizedSystem()\n",
        "\n",
        "eig, _ = LA.eig(ss.A)\n",
        "\n",
        "# You will notice the original system is unstable since the eigen(A) has positive real part\n",
        "print('Eigenvalue of A matrix', eig)\n",
        "\n",
        "# Let's compute the reachability matrix W_r\n",
        "W_r = \n",
        "\n",
        "# Check the rank of W_r, is the system reachable?\n",
        "print('Rank of reachability matrix', matrix_rank(W_r))"
      ],
      "execution_count": null,
      "outputs": []
    },
    {
      "cell_type": "markdown",
      "metadata": {
        "id": "L3vsF9zpldaK"
      },
      "source": [
        "### Eigenvalue placement "
      ]
    },
    {
      "cell_type": "code",
      "source": [
        "## If the system is reachable, now we can design state feedback controller to stablize the system \n",
        "desired_eigs = np.array([-1.1, -1.2, -1.3, -1.4])\n",
        "\n",
        "# Use eigenvalue placement to compute compute K such that the closed-loop system\n",
        "# has the desired eigenvalues eig([A-BK]) = desired_eigs\n",
        "K_stable = None\n",
        "\n",
        "print('[compute_K] desired_eigs=', desired_eigs)\n",
        "print('[compute_K] K value=', K_stable)"
      ],
      "metadata": {
        "id": "rE650AosGaI5"
      },
      "execution_count": null,
      "outputs": []
    },
    {
      "cell_type": "code",
      "metadata": {
        "id": "q_av2y_ImfY2"
      },
      "source": [
        "# Now we will test the control law u = -Kx, where K is solved from the eigenvalue placement\n",
        "def u(t, x):\n",
        "    u_ = -np.matmul(K_stable, x-np.array([0, 0, 0, 0]))\n",
        "    return u_[0]"
      ],
      "execution_count": null,
      "outputs": []
    },
    {
      "cell_type": "code",
      "metadata": {
        "id": "bnpvu4AXmv7E"
      },
      "source": [
        "# Simulate the dynamical system\n",
        "from google.colab import files\n",
        "if __name__==\"__main__\":\n",
        "    sol = solve_ivp(x_dot, [0, 20], [1.0, 0+0.05, 0., 0.],  t_eval=np.linspace(0, 20, 100))\n",
        "\n",
        "    syst = CartPendulum()\n",
        "    out = cv2.VideoWriter('outpy.avi',cv2.VideoWriter_fourcc('M','J','P','G'), 10, (512,512))\n",
        "    for i, t in enumerate(sol.t):\n",
        "        rendered = syst.step([sol.y[0,i], sol.y[1,i], sol.y[2,i], sol.y[3,i]], t)\n",
        "        out.write(rendered);\n",
        "\n",
        "        if cv2.waitKey(25) == ord('q'):\n",
        "            break\n",
        "    out.release()\n",
        "    files.download('outpy.avi')"
      ],
      "execution_count": null,
      "outputs": []
    },
    {
      "cell_type": "markdown",
      "metadata": {
        "id": "AXbI8xhTinri"
      },
      "source": [
        "### LQR Controller"
      ]
    },
    {
      "cell_type": "markdown",
      "metadata": {
        "id": "TVju3Skur5tw"
      },
      "source": [
        "Where should we optimally place the eigenvalues?"
      ]
    },
    {
      "cell_type": "code",
      "metadata": {
        "id": "uQRfPoE1NzrE"
      },
      "source": [
        "# State and Control Cost Matrix\n",
        "Q = np.diag([1., 1., 1., 1.])\n",
        "R = np.diag([0.001])\n",
        "\n",
        "# K_lqr : State feedback gain\n",
        "# P : Solution to Riccati Equation\n",
        "# E_lqr : Eigen values of the closed loop system\n",
        "\n",
        "# define how to compute the lqr gain K\n",
        "K_lqr, P, E_lqr = None\n",
        "\n",
        "print('[LQR] K value=', K_lqr)\n",
        "print('[LQR] eigenvalues of the closed-loop system =', E_lqr)"
      ],
      "execution_count": null,
      "outputs": []
    },
    {
      "cell_type": "code",
      "metadata": {
        "id": "_8pKI7Q5ipYf"
      },
      "source": [
        "# Now we will test the LQR Controller.\n",
        "def u(t, x):\n",
        "    u_ = -np.matmul(K_lqr, x - np.array([0, 0, 0, 0])) \n",
        "    return u_[0]"
      ],
      "execution_count": null,
      "outputs": []
    },
    {
      "cell_type": "code",
      "metadata": {
        "id": "lV3Ras47Nz0b"
      },
      "source": [
        "# Simulate the dynamical system\n",
        "from google.colab import files\n",
        "if __name__==\"__main__\":\n",
        "    sol = solve_ivp(x_dot, [0, 20], [1.0, 0+0.05, 0., 0.],  t_eval=np.linspace(0, 20, 100))\n",
        "\n",
        "    syst = CartPendulum()\n",
        "    out = cv2.VideoWriter('outpy.avi',cv2.VideoWriter_fourcc('M','J','P','G'), 10, (512,512))\n",
        "    for i, t in enumerate(sol.t):\n",
        "        rendered = syst.step([sol.y[0,i], sol.y[1,i], sol.y[2,i], sol.y[3,i]], t)\n",
        "        out.write(rendered);\n",
        "\n",
        "        if cv2.waitKey(25) == ord('q'):\n",
        "            break\n",
        "    out.release()\n",
        "    files.download('outpy.avi')"
      ],
      "execution_count": null,
      "outputs": []
    },
    {
      "cell_type": "code",
      "metadata": {
        "id": "ZNsCFBmkYTM8"
      },
      "source": [],
      "execution_count": null,
      "outputs": []
    }
  ]
}