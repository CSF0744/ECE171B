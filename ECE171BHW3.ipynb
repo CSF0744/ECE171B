{
  "nbformat": 4,
  "nbformat_minor": 0,
  "metadata": {
    "colab": {
      "provenance": [],
      "authorship_tag": "ABX9TyP54I90QmuCzg64BBJRCBOr",
      "include_colab_link": true
    },
    "kernelspec": {
      "name": "python3",
      "display_name": "Python 3"
    },
    "language_info": {
      "name": "python"
    }
  },
  "cells": [
    {
      "cell_type": "markdown",
      "metadata": {
        "id": "view-in-github",
        "colab_type": "text"
      },
      "source": [
        "<a href=\"https://colab.research.google.com/github/CSF0744/ECE171B/blob/main/ECE171BHW3.ipynb\" target=\"_parent\"><img src=\"https://colab.research.google.com/assets/colab-badge.svg\" alt=\"Open In Colab\"/></a>"
      ]
    },
    {
      "cell_type": "markdown",
      "source": [
        "#**Resource**"
      ],
      "metadata": {
        "id": "c2u1cXrxCIY0"
      }
    },
    {
      "cell_type": "code",
      "execution_count": 1,
      "metadata": {
        "id": "hePsMBtlCEKJ"
      },
      "outputs": [],
      "source": [
        "import numpy as np\n",
        "import matplotlib.pyplot as plt"
      ]
    },
    {
      "cell_type": "markdown",
      "source": [
        "# Problem 4\n",
        "\n",
        ">**(d)**"
      ],
      "metadata": {
        "id": "p4bVLdZDCPwb"
      }
    },
    {
      "cell_type": "code",
      "source": [
        "from scipy.integrate import solve_ivp as ode45\n",
        "ac=1\n",
        "kp=10\n",
        "ki=1\n",
        "v0=0\n",
        "q0=1\n",
        "vref=40\n",
        "tspan=[0, 50]\n",
        "\n",
        "# for propotional controller\n",
        "def func1(t,X):\n",
        "  return -(ac+kp)*X+kp*vref\n",
        "\n",
        "sol=ode45(func1,tspan,[v0]);\n",
        "\n",
        "plt.plot(sol.t,sol.y[0]);\n",
        "plt.xlabel('time (s)');\n",
        "plt.ylabel('state v');\n",
        "plt.legend([r'$\\dot{v}=-(a+c+k_p)v+k_p v_{ref}$;   $v_(0)=0$']);\n",
        "plt.plot()\n"
      ],
      "metadata": {
        "colab": {
          "base_uri": "https://localhost:8080/",
          "height": 297
        },
        "id": "-taYRDjjCoCF",
        "outputId": "dced7703-b6fa-4afa-9003-1880630dfdad"
      },
      "execution_count": 9,
      "outputs": [
        {
          "output_type": "execute_result",
          "data": {
            "text/plain": [
              "[]"
            ]
          },
          "metadata": {},
          "execution_count": 9
        },
        {
          "output_type": "display_data",
          "data": {
            "text/plain": [
              "<Figure size 432x288 with 1 Axes>"
            ],
            "image/png": "[encoded data removed]"
          },
          "metadata": {
            "needs_background": "light"
          }
        }
      ]
    },
    {
      "cell_type": "code",
      "source": [
        "def func2(t,X):\n",
        "  dotv=-(ac+kp)*X[0]-ki*X[1]+kp*vref;\n",
        "  dotq=X[0]-vref;\n",
        "  return [dotv,dotq]\n",
        "\n",
        "sol2=ode45(func2,tspan,[v0,q0]);\n",
        "plt.plot(sol2.t,sol2.y[0]);\n",
        "plt.xlabel('time (s)');\n",
        "plt.ylabel('state v');\n",
        "#plt.legend([r'$\\dot{v}=-(a+c+k_p)v-k_i q+k_p v_{ref}$;   $v_(0)=0$']);\n",
        "plt.plot()"
      ],
      "metadata": {
        "colab": {
          "base_uri": "https://localhost:8080/",
          "height": 297
        },
        "id": "tC8uENUDFwsN",
        "outputId": "0a57060c-780a-41e2-9d51-f8e89ada7b68"
      },
      "execution_count": 8,
      "outputs": [
        {
          "output_type": "execute_result",
          "data": {
            "text/plain": [
              "[]"
            ]
          },
          "metadata": {},
          "execution_count": 8
        },
        {
          "output_type": "display_data",
          "data": {
            "text/plain": [
              "<Figure size 432x288 with 1 Axes>"
            ],
            "image/png": "[encoded data removed]"
          },
          "metadata": {
            "needs_background": "light"
          }
        }
      ]
    },
    {
      "cell_type": "markdown",
      "source": [
        "# Problem 5\n",
        "> **(c)**"
      ],
      "metadata": {
        "id": "jbcaArH8KZwa"
      }
    }
  ]
}